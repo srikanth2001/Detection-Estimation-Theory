{
 "cells": [
  {
   "cell_type": "code",
   "execution_count": 26,
   "id": "83331028",
   "metadata": {},
   "outputs": [
    {
     "data": {
      "image/png": "[encoded data removed]",
      "text/plain": [
       "<Figure size 432x288 with 1 Axes>"
      ]
     },
     "metadata": {
      "needs_background": "light"
     },
     "output_type": "display_data"
    },
    {
     "name": "stdout",
     "output_type": "stream",
     "text": [
      "None\n"
     ]
    }
   ],
   "source": [
    "import numpy as np\n",
    "import matplotlib.pyplot as plt\n",
    "\n",
    "\n",
    "def simulate_pilottransmission(n,sigmasquare):\n",
    "    h = np.random.randn(2)\n",
    "    x = np.random.choice([-1,1],n,p=[0.5,0.5])\n",
    "    y = np.zeros(n)\n",
    "    for i in range(n):\n",
    "        y[i] = h[0]*x[i] + h[1]*x[(i-1)%n] + np.sqrt(sigmasquare) * np.random.randn()\n",
    "    return(h,y,x)\n",
    "\n",
    "\n",
    "def estimator(x,y,sigmasquare):\n",
    "    h = np.zeros(2)\n",
    "    Z =[]\n",
    "    L = len(x)\n",
    "    for i in range(L):\n",
    "      if(i==0):\n",
    "        Z.append(x[L-1])\n",
    "      else:\n",
    "        Z.append(x[i-1])\n",
    "    A =0\n",
    "    for i in range(L):\n",
    "      A = A + (x[i])**2\n",
    "    B =0\n",
    "    for i in range(L):\n",
    "      B = B + x[i]*Z[i]\n",
    "    C =0\n",
    "    for i in range(L):\n",
    "      C = C+ x[i]*y[i]\n",
    "    D =0\n",
    "    for i in range(L):\n",
    "      D = D + Z[i]*y[i]\n",
    "    \n",
    "    h = np.dot([C,D],np.linalg.pinv([[A,B],[B,A]]))\n",
    "    return(h)\n",
    "\n",
    "def simulate_pilotestimation(n,no_trials):\n",
    "\n",
    "    mse = np.zeros(5)\n",
    "    sigmasquare = [0,0.2,0.5,1,3]\n",
    "    for s in range(5):\n",
    "        for i in range(no_trials):\n",
    "            h,y,x = simulate_pilottransmission(n,sigmasquare[s])\n",
    "            hhat = estimator(x,y,sigmasquare[s])\n",
    "            mse[s] += np.sum(h-hhat)**2 / no_trials\n",
    "        \n",
    "    plt.plot(sigmasquare,mse)\n",
    "    plt.xlabel('Noise variance')\n",
    "    plt.ylabel('MSE')\n",
    "    plt.grid(True)\n",
    "    plt.show()\n",
    "\n",
    "\n",
    "#################################################\n",
    "\n",
    "n = 10\n",
    "no_trials = 1000\n",
    "print(simulate_pilotestimation(n,no_trials))"
   ]
  },
  {
   "cell_type": "code",
   "execution_count": null,
   "id": "11d1d6f2",
   "metadata": {},
   "outputs": [],
   "source": []
  }
 ],
 "metadata": {
  "kernelspec": {
   "display_name": "Python 3",
   "language": "python",
   "name": "python3"
  },
  "language_info": {
   "codemirror_mode": {
    "name": "ipython",
    "version": 3
   },
   "file_extension": ".py",
   "mimetype": "text/x-python",
   "name": "python",
   "nbconvert_exporter": "python",
   "pygments_lexer": "ipython3",
   "version": "3.7.9"
  }
 },
 "nbformat": 4,
 "nbformat_minor": 5
}
