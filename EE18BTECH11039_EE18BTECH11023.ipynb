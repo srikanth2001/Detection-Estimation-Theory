{
  "nbformat": 4,
  "nbformat_minor": 0,
  "metadata": {
    "colab": {
      "name": "EE18BTECH11039_EE18BTECH11023.ipynb",
      "provenance": [],
      "collapsed_sections": []
    },
    "kernelspec": {
      "name": "python3",
      "display_name": "Python 3"
    }
  },
  "cells": [
    {
      "cell_type": "code",
      "metadata": {
        "id": "9mavGVQ_aDwG",
        "colab": {
          "base_uri": "https://localhost:8080/"
        },
        "outputId": "291f1067-c2b1-4746-908e-6c4f390a789f"
      },
      "source": [
        "import numpy as np\n",
        "import matplotlib.pyplot as plt\n",
        "\n",
        "mu0, mu1, sigma0, sigma1 = 3, -1, 1, 1\n",
        "c00, c10, c01, c11 = 0, 1, 1, 0\n",
        "N = int(1e6)\n",
        "\n",
        "def computepx(x):\n",
        "    return np.exp(-abs(x))/2\n",
        "\n",
        "def computeGaussian(x, mean, var):\n",
        "    return (1/np.sqrt(2 * np.pi * var)) * np.exp((-(x - mean) ** 2)/(2 * var))\n",
        "\n",
        "def p0(y1, y2):\n",
        "    return computeGaussian(y1, mu0, sigma0 ** 2) * computeGaussian(y2, mu1, sigma1 ** 2)\n",
        "\n",
        "def p1(y1, y2):\n",
        "    return computepx(y1) * computepx(y2)\n",
        "\n",
        "def L(Y):\n",
        "    y1, y2 = Y[0], Y[1]\n",
        "    return p1(y1, y2)/p0(y1, y2)\n",
        "\n",
        "V = []\n",
        "for pi0 in np.arange(0.1, 1, 0.1):\n",
        "    choice = np.array(np.random.rand(N) < pi0, dtype = np.int) # Generate a choice of indices\n",
        "    Y = np.zeros((N, 2))\n",
        "    cost  = 0\n",
        "    tau = pi0/(1 - pi0)\n",
        "    for i in range(N):\n",
        "        if choice[i]: # Choose Y according to H0\n",
        "            Y[i] = [np.random.normal(mu0, sigma0), np.random.normal(mu1, sigma1)]\n",
        "            if L(Y[i]) >= tau:\n",
        "                cost += 1\n",
        "        else: # Choose Y according to H1\n",
        "            Y[i] = [np.random.laplace(0, 1), np.random.laplace(0, 1)]\n",
        "            if L(Y[i]) < tau:\n",
        "                cost += 1\n",
        "    \n",
        "    V.append(cost / N) # Average cost\n",
        "\n",
        "for i in V:\n",
        "    print(i)\n",
        "\n",
        "   \n"
      ],
      "execution_count": null,
      "outputs": [
        {
          "output_type": "stream",
          "text": [
            "0.054474\n",
            "0.071073\n",
            "0.078011\n",
            "0.078707\n",
            "0.076718\n",
            "0.070381\n",
            "0.060735\n",
            "0.047579\n",
            "0.030386\n"
          ],
          "name": "stdout"
        }
      ]
    },
    {
      "cell_type": "code",
      "metadata": {
        "id": "FeYS6O102bmk"
      },
      "source": [
        ""
      ],
      "execution_count": null,
      "outputs": []
    }
  ]
}