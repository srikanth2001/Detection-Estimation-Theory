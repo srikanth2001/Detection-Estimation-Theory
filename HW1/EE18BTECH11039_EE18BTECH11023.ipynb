{
  "nbformat": 4,
  "nbformat_minor": 0,
  "metadata": {
    "colab": {
      "name": "EE18BTECH11039_EE18BTECH11023.ipynb",
      "provenance": [],
      "collapsed_sections": []
    },
    "kernelspec": {
      "name": "python3",
      "display_name": "Python 3"
    }
  },
  "cells": [
    {
      "cell_type": "code",
      "metadata": {
        "id": "9mavGVQ_aDwG",
        "colab": {
          "base_uri": "https://localhost:8080/",
          "height": 299
        },
        "outputId": "d4579704-060d-477b-bc1d-ef606c4a6fc5"
      },
      "source": [
        "#! usr/bin/env python3\n",
        " \n",
        "import numpy as np\n",
        "import matplotlib.pyplot as plt\n",
        " \n",
        "mu0, mu1, sigma0, sigma1 = 3, -1, 1, 1\n",
        "N = int(1e6)\n",
        " \n",
        "def computepx(x):\n",
        "    return np.exp(-abs(x))/2\n",
        " \n",
        "def computeGaussian(x, mean, var):\n",
        "    return (1/np.sqrt(2 * np.pi * var)) * np.exp((-(x - mean) ** 2)/(2 * var))\n",
        " \n",
        "def p0(y1, y2):\n",
        "    return computeGaussian(y1, mu0, sigma0 ** 2) * computeGaussian(y2, mu1, sigma1 ** 2)\n",
        " \n",
        "def p1(y1, y2):\n",
        "    return computepx(y1) * computepx(y2)\n",
        " \n",
        "def L(Y):\n",
        "    y1, y2 = Y[0], Y[1]\n",
        "    return p1(y1, y2)/p0(y1, y2)\n",
        "\n",
        "print(\"Running... (This might take 3 - 4 mins)\")\n",
        "V = []\n",
        "pi = np.arange(0.1, 1, 0.1)\n",
        "np.append(pi, 0.25)\n",
        "for pi0 in pi:\n",
        "    choice = np.random.binomial(size = N, n = 1, p = 1 - pi0) # Generate a choice array based on the value of the Bernoulli(pi_0). If choice = 0, we choose H0. Else choose H1.\n",
        "    Y = np.zeros((N, 2))\n",
        "    cost  = 0\n",
        "    tau = pi0/(1 - pi0)\n",
        "    for i in range(N):\n",
        "        if not choice[i]: # Consider H0 to be true\n",
        "            Y[i] = [np.random.normal(mu0, sigma0), np.random.normal(mu1, sigma1)]\n",
        "            if L(Y[i]) >= tau: # H1 is detected\n",
        "                cost += 1\n",
        "        else: # Consider H1 to be true\n",
        "            Y[i] = [np.random.laplace(0, 1), np.random.laplace(0, 1)]\n",
        "            if L(Y[i]) < tau: # H0 is detected\n",
        "                cost += 1\n",
        "    \n",
        "    V.append(cost / N) # Average cost\n",
        " \n",
        "plt.plot(pi, V, marker = '.', color = 'g')\n",
        "plt.plot(0.25, 0.075, 'ro')\n",
        "plt.text(0.25, 0.075, \"(0.25, 0.075)\")\n",
        "plt.xlabel(\"$\\pi_0$\")\n",
        "plt.ylabel(\"$V(\\pi_0)$\")\n",
        "plt.grid()\n",
        "plt.savefig(\"./V.png\")\n",
        "plt.show()"
      ],
      "execution_count": null,
      "outputs": [
        {
          "output_type": "stream",
          "text": [
            "Running... (This might take 3 - 4 mins)\n"
          ],
          "name": "stdout"
        },
        {
          "output_type": "display_data",
          "data": {
            "image/png": "[encoded data removed]",
            "text/plain": [
              "<Figure size 432x288 with 1 Axes>"
            ]
          },
          "metadata": {
            "tags": [],
            "needs_background": "light"
          }
        }
      ]
    },
    {
      "cell_type": "code",
      "metadata": {
        "id": "FeYS6O102bmk"
      },
      "source": [
        ""
      ],
      "execution_count": null,
      "outputs": []
    }
  ]
}