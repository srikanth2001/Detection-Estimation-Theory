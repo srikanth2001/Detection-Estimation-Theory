{
 "cells": [
  {
   "cell_type": "code",
   "execution_count": null,
   "metadata": {
    "colab": {
     "base_uri": "https://localhost:8080/"
    },
    "id": "9mavGVQ_aDwG",
    "outputId": "291f1067-c2b1-4746-908e-6c4f390a789f"
   },
   "outputs": [],
   "source": [
    "#! usr/bin/env python3\n",
    "\n",
    "import numpy as np\n",
    "import matplotlib.pyplot as plt\n",
    "\n",
    "mu0, mu1, sigma0, sigma1 = 3, -1, 1, 1\n",
    "N = int(1e6)\n",
    "\n",
    "def computepx(x):\n",
    "    return np.exp(-abs(x))/2\n",
    "\n",
    "def computeGaussian(x, mean, var):\n",
    "    return (1/np.sqrt(2 * np.pi * var)) * np.exp((-(x - mean) ** 2)/(2 * var))\n",
    "\n",
    "def p0(y1, y2):\n",
    "    return computeGaussian(y1, mu0, sigma0 ** 2) * computeGaussian(y2, mu1, sigma1 ** 2)\n",
    "\n",
    "def p1(y1, y2):\n",
    "    return computepx(y1) * computepx(y2)\n",
    "\n",
    "def L(Y):\n",
    "    y1, y2 = Y[0], Y[1]\n",
    "    return p1(y1, y2)/p0(y1, y2)\n",
    "\n",
    "V = []\n",
    "pi = np.arange(0.1, 1, 0.1)\n",
    "for pi0 in pi:\n",
    "    choice = np.array(np.random.rand(N) < pi0, dtype = np.int64) # Generate a choice of indices\n",
    "    Y = np.zeros((N, 2))\n",
    "    cost  = 0\n",
    "    tau = pi0/(1 - pi0)\n",
    "    for i in range(N):\n",
    "        if choice[i]: # Choose Y according to H0\n",
    "            Y[i] = [np.random.normal(mu0, sigma0), np.random.normal(mu1, sigma1)]\n",
    "            if L(Y[i]) >= tau:\n",
    "                cost += 1\n",
    "        else: # Choose Y according to H1\n",
    "            Y[i] = [np.random.laplace(0, 1), np.random.laplace(0, 1)]\n",
    "            if L(Y[i]) < tau:\n",
    "                cost += 1\n",
    "    \n",
    "    V.append(cost / N) # Average cost\n",
    "\n",
    "plt.plot(pi, V)\n",
    "plt.xlabel(\"$\\pi_0$\")\n",
    "plt.ylabel(\"$V(\\pi_0)$\")\n",
    "plt.grid()\n",
    "# plt.savefig(\"./V.png\")\n",
    "plt.show()\n",
    "   \n",
    "\n"
   ]
  },
  {
   "cell_type": "code",
   "execution_count": null,
   "metadata": {
    "id": "FeYS6O102bmk"
   },
   "outputs": [],
   "source": []
  }
 ],
 "metadata": {
  "colab": {
   "collapsed_sections": [],
   "name": "EE18BTECH11039_EE18BTECH11023.ipynb",
   "provenance": []
  },
  "kernelspec": {
   "display_name": "Python 3",
   "language": "python",
   "name": "python3"
  },
  "language_info": {
   "codemirror_mode": {
    "name": "ipython",
    "version": 3
   },
   "file_extension": ".py",
   "mimetype": "text/x-python",
   "name": "python",
   "nbconvert_exporter": "python",
   "pygments_lexer": "ipython3",
   "version": "3.8.5"
  }
 },
 "nbformat": 4,
 "nbformat_minor": 1
}
